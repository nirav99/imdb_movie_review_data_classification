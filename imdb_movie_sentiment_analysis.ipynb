{
 "cells": [
  {
   "cell_type": "code",
   "execution_count": 1,
   "id": "0bc55d95-ba04-4893-8a75-c54bb7de013b",
   "metadata": {},
   "outputs": [],
   "source": [
    "from datasets import load_dataset\n",
    "from transformers import AutoTokenizer\n",
    "from transformers import AutoModelForSequenceClassification\n",
    "from transformers import TrainingArguments\n",
    "from transformers import Trainer\n",
    "import numpy as np\n",
    "import random\n",
    "import pandas as pd\n",
    "import evaluate\n",
    "import torch\n",
    "import torch.nn.functional as F"
   ]
  },
  {
   "cell_type": "markdown",
   "id": "89cdabb3-e490-45ff-8176-ca1a68a0d073",
   "metadata": {},
   "source": [
    "Load the IMDB dataset.\n",
    "Create a tokenizer from the pre-trained BERT uncased model.\n",
    "Use the pre-trained BERT uncased model with 2 labels, 1 for positive class and 0 for negative class."
   ]
  },
  {
   "cell_type": "code",
   "execution_count": 2,
   "id": "0975f7fe-c4cd-4b67-bab6-9d9aeeba34fe",
   "metadata": {},
   "outputs": [
    {
     "name": "stderr",
     "output_type": "stream",
     "text": [
      "Some weights of BertForSequenceClassification were not initialized from the model checkpoint at bert-base-uncased and are newly initialized: ['classifier.bias', 'classifier.weight']\n",
      "You should probably TRAIN this model on a down-stream task to be able to use it for predictions and inference.\n"
     ]
    }
   ],
   "source": [
    "dataset = load_dataset(\"imdb\")\n",
    "tokenizer = AutoTokenizer.from_pretrained('bert-base-uncased')\n",
    "model = AutoModelForSequenceClassification.from_pretrained(\"bert-base-uncased\", num_labels=2)"
   ]
  },
  {
   "cell_type": "code",
   "execution_count": 3,
   "id": "ee0ec2fc-c93e-4a71-a03b-78d3f829b1c1",
   "metadata": {},
   "outputs": [],
   "source": [
    "def describe_specific_dataset(data, data_type):\n",
    "    \"\"\"\n",
    "    Examine some data. Count the total number of positive and negative samples and print some random samples.\n",
    "    \"\"\"\n",
    "    total_records = len(data)\n",
    "    num_positive_labels = np.sum(data['label'])\n",
    "    num_negative_labels = total_records - num_positive_labels\n",
    "    print(f\"Dataset Type : {data_type}, Total Records : {total_records}, Positive : {num_positive_labels}, Negative : {num_negative_labels}\")\n",
    "\n",
    "    samples = random.sample(range(0, total_records), 7)\n",
    "\n",
    "    for i in samples:\n",
    "        text = data['text'][i]\n",
    "        label = data['label'][i]\n",
    "        print(f\"Movie Review : {text}\\n  Label : {label}\\n\")"
   ]
  },
  {
   "cell_type": "markdown",
   "id": "64e5b2b2-06d2-41a3-9cfc-29e4aa40d350",
   "metadata": {},
   "source": [
    "Describe the training dataset."
   ]
  },
  {
   "cell_type": "code",
   "execution_count": 4,
   "id": "9435bb2b-8e2e-4766-8441-fc44ec021ca7",
   "metadata": {},
   "outputs": [],
   "source": [
    "def describe_dataset(dataset):\n",
    "    describe_specific_dataset(dataset['train'], 'train')"
   ]
  },
  {
   "cell_type": "code",
   "execution_count": 5,
   "id": "cff1df76-2583-4699-9a2b-ea2ee4321730",
   "metadata": {},
   "outputs": [
    {
     "name": "stdout",
     "output_type": "stream",
     "text": [
      "Dataset Type : train, Total Records : 25000, Positive : 12500, Negative : 12500\n",
      "Movie Review : Hybrid starts as water treatment planet security guard Aaron Scates (Cory Monteith) is involved in an accident which leaves him blind. Luckily it just so happens that brilliant scientist Dr. Andrea Hewitt (Justine Bateman) who works for Olaris has developed an operation to transplant organs from one species to another, Hewitt decides Aaron would be perfect for her first human experiment. Hewitt & her team transplant the eyes of a Wolf into Aaron & he miraculously regains his sight. Brilliant, right? Well, no not really since Aaron starts to go mad as he sees random images of Wolves & starts to develop a lust for blood. Aaron escapes the Olaris building & goes on the run but he is too valuable to just let go & a full scale search is mounted to capture him...<br /><br />Directed by Yelena Lanskaya this is yet another Sci-Fi Channel offering that is quite simply put terrible in every possible way, I think it probably started out life as a straight 'Creature Feature' but ended up as one of the most boring & dull Sci-Fi Channel films I have seen that doesn't even feature any sort of monster or creature. Hybrid is awful, the script is terrible & I am not even sure who it was meant to appeal to. The initial set-up is OK with Aaron getting Wolf eyes but then Hybrid ditches the sci-fi elements & becomes some sort of horrible drama as it focuses entirely on Aaron's mental state as he wonders around doing nothing in particular with some Native American woman. Yep, you don't think the Sci-Fi Channel could make a film about Wolves & put loads of rubbish about Native American mythology in there as well do you? The dynamics of the character's is bizarre, Aaron is shown as the persecuted hero yet he is the only character to kill anyone in the film & is a fairly unlikable, ungrateful & annoying person while Dr. Hewitt is shown as the evil scientist yet she gives Aaron back his sight & does nothing but try to help him. I mean Aaron is given back the gift of sight yet Hewitt is the villain? Also the regular Sci-Fi Channel staple of US military intervention is present, the problem is why do they want Aaron so badly? He isn't a soldier & while he has Wolves eyes to help him see in the dark he's utterly unremarkable. The script can't make it's mind up whether it's all in Aaron's mind or it's real, the ending is hilariously bad with a half naked (rememeber this was made for telly) Aaron running through a forest with a pack of Wolves set to some horrible music that I think is supposed to be emotional but makes it even more funny. There are so many things wrong with Hybrid, it's slower than hell, there's virtually no action, there's no Werewolves & the film goes round in circles trying to get into Aaron's mind yet it's all so ridiculous, silly & boring you won't care one bit & there's never any explanation as to why despite just having Wolves eyes transplanted Aaron starts to develop other Wolf senses.<br /><br />As a diabetic I have problems with my eyes, hell I have had major surgery on my right eye & I can guarantee you that after an operation your eye would be puffed up, you wouldn't be able to open it & it would hurt like hell yet despite having eye transplants as soon as Aaron wakes up in bed his eyes are perfect with no swelling or even redness. There are no special effects, no blood or gore or violence & nothing to excite you. In fact now I think about it there's nothing even remotely horror or sci-fi feeling about this, it feels like a drab film of the week.<br /><br />Filmed in Manitoba in Canada the film looks OK but is bland & forgettable. The acting is poor from all involved none of whom I have seen before & hopefully never again.<br /><br />Hybrid is a terrible film that is obviously marketed as some Werewolve 'Creature Feature' but is far from that & most people will really struggle to get to the awful ending which will probably have you in stitches.\n",
      "  Label : 0\n",
      "\n",
      "Movie Review : When it comes to horror movies, I am more than willing to suspend disbelief, ignore sub-par production values, and overlook plot holes in the interest of a good scare. This movies simply has no good scares to offer. It can't even be enjoyed as camp. Bad dialogue, bad acting, bad direction, the kills were predictable and poorly staged, the music was annoying, the camera work was wretched, even the costumes were bad. I felt really bad for the actors, who were obviously trying, but who had to deal with terrible, contrived dialogue and an obvious lack of direction. I doubt they got any rehearsal, either. It's embarrassing to watch, and so boring than making it through to the contrived \"surprise\" ending requires tremendous endurance. It's quite easily one of the worst movies I've ever seen.<br /><br />I don't normally write reviews, but this one was so bad that I felt compelled to warn others. This movie is a complete waste of time. If you must watch this movie, don't miss the \"Making of\"-featurette. The writer/director seems to be under the impression that making the killer a woman was kind of bold, daring move. (Seen it.) He and the cast spend half an hour deconstructing this film as if it's a new-age \"Citizen Kane.\" It's like listening to a group of third-graders take you behind the scenes of their Christmas pageant. They truly think they've created something of substance. It's sad, really",
      " The only reason I gave this movie a \"2\" is because I think \"1\" should be reserved for true atrocities, like \"Manos: Hands of Fate\" and \"Space Mutiny.\" So \"American Nightmare\" isn't the WORST movie I've ever seen, but I'd have to say that it's somewhere in the bottom fifty.\n",
      "  Label : 0\n",
      "\n",
      "Movie Review : Not only was he invariably annoying to listen to, but he had NO jokes. I swear, some fobby Asian guy telling yo momma jokes would've been funnier than Leary's crap. (Well, maybe funny for a couple minutes but at least I'll be able to laugh at least once!) Leary claimed he stopped taking drugs during one of his \"jokes\"... apparently he was still high on something; he was just some crackhead imprecating rants mostly drug related. One of his jokes was something like, 'I wouldn't use crack, especially having the same name as between my ass' - Oh man, how did he come up with that one?! I swear the only guy that needs to shut the f**k up is Denis Leary. Thank god I didn't have to see him live. This guy totally sucks.<br /><br />If you're easily amused by swearing, and \"jokes\" where you can come up with yourself, then waste your time with this junk.\n",
      "  Label : 0\n",
      "\n",
      "Movie Review : Upon the first viewing, I found this tale to be at least less annoying than other Cannon Movie Tales. After many more, I think it's one of the best. Some of the songs are pretty bad, especially the love song, but two things stand out that make the movie, even the singing, worthwhile. One is the art direction. Like the other Cannon Movie Tales, this is a beautifully decorated period piece; every piece of cloth and jewel (both of which have major parts in this movie's plot) look fresh and new, and contrast with the plain clothes of the peasants. Even during the love song I find myself studying the dress and hair of the princess, wonderfully done. The other thing is the comic timing. A lot of the movie is cheesy, but the emperor's vanity (and his making fun of himself in the end), the suspicious guard, the guard chasing Nicholas, and the stupid prince, were all quite funny and seem to be ridiculous quite on purpose. And the sequence during the song Weave-O makes up for the songs that weren't so good.\n",
      "  Label : 1\n",
      "\n",
      "Movie Review : I only know of one other movie that could possibly compete with Opening Night and that's Bergman';s Persona. Both movies are simply amazing, they have a richness of ideas hard to grasp at first sight. We have a profound meditation on the relation of art and life as one actress, Myrtle Gordon (Gena Rowlands), finds herself more in touch with the character she is playing on stage than she would want to. The accidental death of one of her fans, a young girl that declares her love for Myrtle and she is then hit by a car, leaves a deep mark in the actress. She starts asking herself question related to her aging that starts to affect her until the only solution becomes alcohol. But that doesn't help to much and Myrtle is one step away from complete madness. The scene where she kill the imaginary (or not) spirit of the dead girl is one of the most thrilling scenes I found in a Cassavets film. The movie ends with a display of genius on behalf of the director as he films a theater scene where he himself and Gena Rowlands improvise a scene, since Myrtle comes too drunk to the opening night to perform her part accurately. This scene was filmed spontaneously, with a live audience, the laughter is genuine, the chemistry between Casavates and Rowlands absolutely amazing. If you liked Persona or are interested in a movie that offers substantial ideas alongside great entertainment this movie will suit you just fine.\n",
      "  Label : 1\n",
      "\n",
      "Movie Review : I was really, really disappointed with this movie. it started really well, and built up some great atmosphere and suspense, but when it finally got round to revealing the \"monster\"...it turned out to be just some psycho with skin problems......again. Whoop-de-do. Yet another nutjob movie...like we don't already have enough of them.<br /><br />To be fair, the \"creep\" is genuinely unsettling to look at, and the way he moves and the strange sounds he makes are pretty creepy, but I'm sick of renting film like this only to discover that the monster is human, albeit a twisted, demented, freakish one. When I saw all the tell-tale rats early on I was hoping for some kind of freaky rat-monster hybrid thing...it was such a let down when the Creep was revealed.<br /><br />On top of this, some of the stuff in this movie makes no sense. (Spoiler) <br /><br />Why the hell does the Creep kill the security Guard? Whats the point, apart from sticking a great honking sign up that says \"HI I'm A PSYCHO AND I LIVE DOWN HERE!\"? Its stupid, and only seems to happen to prevent Franka Potente's character from getting help.<br /><br />what the hells he been eating down there? I got the impression he was effectively walled in, and only the unexpected opening into that tunnel section let him loose...so has he been munching rats all that time, and if so why do they hang around him so much? Why is he so damn hard to kill? He's thin, malnourished and not exactly at peak performance...but seems to keep going despite injuries that are equivalent to those that .cripple the non-psycho characters in the film.<br /><br />The DVD commentary says we are intended to empathise with Creep, but I just find him loathsome. Its an effective enough movie, but it wasted so many opportunities that it makes me sick.\n",
      "  Label : 0\n",
      "\n",
      "Movie Review : This is just one more of those hideous films that you find on Lifetime TV which portray the abhorrent behavior of some disgusting woman in an empathetic manner. Along with other such nasty films as \"The Burning Bed,\" \"Enough,\" or \"Monster,\" this film takes a disgusting criminal and attempts to show the viewer why she's not such a bad person after all. Give us a break! Here's my question to the filmmakers: If LeTourneau were a man, and Vili were a 12 year old girl, would you have made a picture sympathizing and empathizing with this person? Answer: Hell no.<br /><br />Imagine switching the genders in this film, and then you'll see just why myself and others here consider this a worthless piece of garbage. Were the genders switched, there would be no attempt to empathize with the criminal. Instead, we'd likely be treated to a portrayal of a monstrous and hideous man preying upon a young girl, his lascivious behavior landing him in prison, and his brainwashed victim suffering from Stockholm Syndrome. The only reason LeTourneau does not receive the same treatment in this film is by virtue of her sex.<br /><br />Let's call a spade a spade. LeTourneau is a pedophile. Plain and simple. No ifs, ands or buts. She's a criminal who belongs in prison, and deserves our derision and contempt, but certainly not our pity or empathy.\n",
      "  Label : 0\n",
      "\n"
     ]
    }
   ],
   "source": [
    "describe_dataset(dataset)"
   ]
  },
  {
   "cell_type": "markdown",
   "id": "3098736b-c3b6-4677-bf81-42ef6e4adec4",
   "metadata": {},
   "source": [
    "Define a tokenizer function for the model."
   ]
  },
  {
   "cell_type": "code",
   "execution_count": 6,
   "id": "d1d9d150-1f6c-4ed5-8708-b4fc93a969ab",
   "metadata": {},
   "outputs": [
    {
     "name": "stdout",
     "output_type": "stream",
     "text": [
      "{'text': Value(dtype='string', id=None), 'label': ClassLabel(names=['neg', 'pos'], id=None), 'input_ids': Sequence(feature=Value(dtype='int32', id=None), length=-1, id=None), 'token_type_ids': Sequence(feature=Value(dtype='int8', id=None), length=-1, id=None), 'attention_mask': Sequence(feature=Value(dtype='int8', id=None), length=-1, id=None)}\n"
     ]
    }
   ],
   "source": [
    "def tokenize(batch):\n",
    "    return tokenizer(batch[\"text\"], truncation=True, padding=\"max_length\", max_length=512)\n",
    "\n",
    "tokenized_dataset = dataset.map(tokenize, batched=True)\n",
    "print(tokenized_dataset[\"train\"].features)"
   ]
  },
  {
   "cell_type": "code",
   "execution_count": 7,
   "id": "1cf3c918-2ab9-46eb-8909-6abd9fdd2d99",
   "metadata": {},
   "outputs": [],
   "source": [
    "\"\"\"\n",
    "PyTorch expects the class lablels in a column named \"labels\".\n",
    "set_format torch converts the required columns to pytorch tensors\n",
    "\"\"\"\n",
    "tokenized_dataset = tokenized_dataset.rename_column(\"label\", \"labels\")\n",
    "tokenized_dataset.set_format(\"torch\", columns=[\"input_ids\", \"attention_mask\", \"labels\"])"
   ]
  },
  {
   "cell_type": "code",
   "execution_count": 8,
   "id": "3b62d3d3-5792-4157-ba71-22b0d6184f17",
   "metadata": {},
   "outputs": [],
   "source": [
    "training_args = TrainingArguments(\n",
    "    output_dir=\"./results\",\n",
    "    eval_strategy=\"epoch\", # Run evaluation after every epoch\n",
    "    save_strategy=\"epoch\", # Save model checkpoint after every epoch\n",
    "    learning_rate=2e-5,\n",
    "    per_device_train_batch_size=8,\n",
    "    per_device_eval_batch_size=8,\n",
    "    num_train_epochs=2,\n",
    "    weight_decay=0.01, # L2 regularization\n",
    "    logging_dir=\"./logs\",\n",
    "    logging_steps=100, # Logs training metrics after 100 steps\n",
    "    load_best_model_at_end=True,\n",
    "    metric_for_best_model=\"accuracy\",\n",
    "    greater_is_better=True\n",
    ")"
   ]
  },
  {
   "cell_type": "code",
   "execution_count": 9,
   "id": "0bd2f80b-2ab6-40a3-ace0-2bae6094546f",
   "metadata": {},
   "outputs": [],
   "source": [
    "accuracy = evaluate.load(\"accuracy\")\n",
    "f1 = evaluate.load(\"f1\")\n",
    "\n",
    "def compute_metrics(eval_pred):\n",
    "    predictions, labels = eval_pred\n",
    "    preds = predictions.argmax(axis=1)\n",
    "    acc = accuracy.compute(predictions=preds, references=labels)\n",
    "    f1_score = f1.compute(predictions=preds, references=labels, average='weighted')\n",
    "\n",
    "    return {\n",
    "        \"accuracy\": acc[\"accuracy\"],\n",
    "        \"f1\": f1_score[\"f1\"]\n",
    "    }\n"
   ]
  },
  {
   "cell_type": "code",
   "execution_count": 10,
   "id": "28e042e3-676f-4180-9487-f3d58a326b7c",
   "metadata": {},
   "outputs": [],
   "source": [
    "trainer = Trainer(\n",
    "    model=model,\n",
    "    args=training_args,\n",
    "    train_dataset=tokenized_dataset[\"train\"].shuffle(seed=42).select(range(10000)),  # Subset for speed\n",
    "    eval_dataset=tokenized_dataset[\"test\"].select(range(2000)),  # Subset for speed\n",
    "    processing_class=tokenizer,\n",
    "    compute_metrics=compute_metrics,\n",
    ")"
   ]
  },
  {
   "cell_type": "code",
   "execution_count": 11,
   "id": "cb3debbf-8956-46e4-9e37-4dceb8175b49",
   "metadata": {},
   "outputs": [
    {
     "data": {
      "text/html": [
       "\n",
       "    <div>\n",
       "      \n",
       "      <progress value='2500' max='2500' style='width:300px; height:20px; vertical-align: middle;'></progress>\n",
       "      [2500/2500 47:51, Epoch 2/2]\n",
       "    </div>\n",
       "    <table border=\"1\" class=\"dataframe\">\n",
       "  <thead>\n",
       " <tr style=\"text-align: left;\">\n",
       "      <th>Epoch</th>\n",
       "      <th>Training Loss</th>\n",
       "      <th>Validation Loss</th>\n",
       "      <th>Accuracy</th>\n",
       "      <th>F1</th>\n",
       "    </tr>\n",
       "  </thead>\n",
       "  <tbody>\n",
       "    <tr>\n",
       "      <td>1</td>\n",
       "      <td>0.296800</td>\n",
       "      <td>0.407714</td>\n",
       "      <td>0.885000</td>\n",
       "      <td>0.938992</td>\n",
       "    </tr>\n",
       "    <tr>\n",
       "      <td>2</td>\n",
       "      <td>0.148600</td>\n",
       "      <td>0.292796</td>\n",
       "      <td>0.931500</td>\n",
       "      <td>0.964535</td>\n",
       "    </tr>\n",
       "  </tbody>\n",
       "</table><p>"
      ],
      "text/plain": [
       "<IPython.core.display.HTML object>"
      ]
     },
     "metadata": {},
     "output_type": "display_data"
    },
    {
     "data": {
      "text/plain": [
       "TrainOutput(global_step=2500, training_loss=0.2368379367828369, metrics={'train_runtime': 2872.9919, 'train_samples_per_second': 6.961, 'train_steps_per_second': 0.87, 'total_flos': 5262221107200000.0, 'train_loss': 0.2368379367828369, 'epoch': 2.0})"
      ]
     },
     "execution_count": 11,
     "metadata": {},
     "output_type": "execute_result"
    }
   ],
   "source": [
    "trainer.train()\n"
   ]
  },
  {
   "cell_type": "code",
   "execution_count": 12,
   "id": "8002ba94-47c3-4719-a534-ee0ddd01231d",
   "metadata": {},
   "outputs": [
    {
     "data": {
      "text/html": [
       "\n",
       "    <div>\n",
       "      \n",
       "      <progress value='250' max='250' style='width:300px; height:20px; vertical-align: middle;'></progress>\n",
       "      [250/250 01:11]\n",
       "    </div>\n",
       "    "
      ],
      "text/plain": [
       "<IPython.core.display.HTML object>"
      ]
     },
     "metadata": {},
     "output_type": "display_data"
    },
    {
     "data": {
      "text/plain": [
       "{'eval_loss': 0.29279595613479614,\n",
       " 'eval_accuracy': 0.9315,\n",
       " 'eval_f1': 0.9645353352316852,\n",
       " 'eval_runtime': 72.2463,\n",
       " 'eval_samples_per_second': 27.683,\n",
       " 'eval_steps_per_second': 3.46,\n",
       " 'epoch': 2.0}"
      ]
     },
     "execution_count": 12,
     "metadata": {},
     "output_type": "execute_result"
    }
   ],
   "source": [
    "trainer.evaluate()"
   ]
  },
  {
   "cell_type": "code",
   "execution_count": 15,
   "id": "59a28986-41d6-4e87-89ac-41125e8081bc",
   "metadata": {},
   "outputs": [
    {
     "name": "stdout",
     "output_type": "stream",
     "text": [
      "This was a boring and a poorly directed film.\n",
      "  Logits : tensor([[ 2.6290, -3.3180]]), Argmax : 0\n",
      "  Probabilities : tensor([[0.9974, 0.0026]]), confidence : 0.9973931312561035\n",
      "Sentiment : Negative\n",
      "\n",
      "I really enjoyed this movie. The story, the plot and the acting was superlative. The ending felt a little stretched, \n",
      "    could have been reduced, but I liked it overall\n",
      "  Logits : tensor([[-2.8040,  3.0311]]), Argmax : 1\n",
      "  Probabilities : tensor([[0.0029, 0.9971]]), confidence : 0.9970853924751282\n",
      "Sentiment : Positive\n",
      "\n",
      "OMG ! What a collosal waste of time ! Avoid !!!\n",
      "  Logits : tensor([[ 2.3844, -3.0481]]), Argmax : 0\n",
      "  Probabilities : tensor([[0.9956, 0.0044]]), confidence : 0.995647132396698\n",
      "Sentiment : Negative\n",
      "\n"
     ]
    }
   ],
   "source": [
    "# Retrieve the best saved model.\n",
    "model_path = \"./results/checkpoint-2500\"\n",
    "model = AutoModelForSequenceClassification.from_pretrained(model_path)\n",
    "model.eval()\n",
    "label_map = {0: \"Negative\", 1: \"Positive\"}\n",
    "\n",
    "def predict_sentiment(review):\n",
    "    \"\"\"\n",
    "    Given a review, compute the class probability (confidence) and the class.\n",
    "    1 means positive review and 0 means negative review.\n",
    "    \"\"\"\n",
    "    inputs = tokenizer(review, return_tensors=\"pt\", truncation=True, padding=True, max_length=512)\n",
    "    \n",
    "    with torch.no_grad():\n",
    "        logits = model(**inputs).logits\n",
    "    \n",
    "    print(f\"  Logits : {logits}, Argmax : {torch.argmax(logits)}\")\n",
    "    predicted_class = torch.argmax(logits).item()\n",
    "    probs = F.softmax(logits, dim=1)\n",
    "    confidence = probs[0][predicted_class].item()\n",
    "    print(f\"  Probabilities : {probs}, confidence : {confidence}\")\n",
    "    return label_map[predicted_class]\n",
    "\n",
    "movie_reviews = [\n",
    "    \"This was a boring and a poorly directed film.\",\n",
    "    \"\"\"I really enjoyed this movie. The story, the plot and the acting was superlative. The ending felt a little stretched, \n",
    "    could have been reduced, but I liked it overall\"\"\",\n",
    "    \"\"\"OMG ! What a collosal waste of time ! Avoid !!!\"\"\"\n",
    "]\n",
    "\n",
    "for movie_review in movie_reviews:\n",
    "    print(movie_review)\n",
    "    print(f\"Sentiment : {predict_sentiment(movie_review)}\\n\")\n"
   ]
  },
  {
   "cell_type": "code",
   "execution_count": null,
   "id": "84d737de-5b65-405f-b0e3-a53e39117346",
   "metadata": {},
   "outputs": [],
   "source": []
  }
 ],
 "metadata": {
  "kernelspec": {
   "display_name": "Python 3 (ipykernel)",
   "language": "python",
   "name": "python3"
  },
  "language_info": {
   "codemirror_mode": {
    "name": "ipython",
    "version": 3
   },
   "file_extension": ".py",
   "mimetype": "text/x-python",
   "name": "python",
   "nbconvert_exporter": "python",
   "pygments_lexer": "ipython3",
   "version": "3.12.8"
  }
 },
 "nbformat": 4,
 "nbformat_minor": 5
}
